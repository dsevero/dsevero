{
 "cells": [
  {
   "cell_type": "markdown",
   "metadata": {},
   "source": [
    "Wyner-Ziv Quantization for Classification\n",
    "=============================================="
   ]
  },
  {
   "cell_type": "code",
   "execution_count": 1,
   "metadata": {
    "execution": {
     "iopub.execute_input": "2020-09-08T18:00:29.154325Z",
     "iopub.status.busy": "2020-09-08T18:00:29.153658Z",
     "iopub.status.idle": "2020-09-08T18:00:29.623714Z",
     "shell.execute_reply": "2020-09-08T18:00:29.623992Z"
    }
   },
   "outputs": [],
   "source": [
    "from dsc4ml.encoders import LocalEncoder, DistributedEncoder\n",
    "from dsc4ml.decoders import FusionDecoder\n",
    "import xarray as xr\n",
    "import numpy as np\n",
    "import numpy.random as npr\n",
    "import matplotlib.pyplot as plt\n",
    "import pandas as pd\n",
    "\n",
    "plt.style.use('seaborn-darkgrid')\n",
    "plt.rcParams['figure.figsize'] = [16, 6]\n",
    "plt.rcParams['font.size'] = 14\n",
    "plt.rcParams['image.cmap'] = 'Dark2'\n",
    "\n",
    "DA = xr.DataArray"
   ]
  }
 ],
 "metadata": {
  "jupytext": {
   "cell_metadata_filter": "-all",
   "formats": "md:myst",
   "text_representation": {
    "extension": ".md",
    "format_name": "myst",
    "format_version": "0.9",
    "jupytext_version": "1.5.2"
   }
  },
  "kernelspec": {
   "display_name": "Python 3",
   "language": "python",
   "name": "python3"
  },
  "language_info": {
   "codemirror_mode": {
    "name": "ipython",
    "version": 3
   },
   "file_extension": ".py",
   "mimetype": "text/x-python",
   "name": "python",
   "nbconvert_exporter": "python",
   "pygments_lexer": "ipython3",
   "version": "3.8.5"
  },
  "source_map": [
   14,
   19
  ]
 },
 "nbformat": 4,
 "nbformat_minor": 4
}