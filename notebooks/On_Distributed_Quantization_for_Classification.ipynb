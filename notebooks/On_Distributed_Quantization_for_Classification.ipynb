{
 "cells": [
  {
   "cell_type": "markdown",
   "metadata": {
    "colab_type": "text",
    "id": "view-in-github"
   },
   "source": [
    "<a href=\"https://colab.research.google.com/github/dsevero/dsevero.com/blob/master/notebooks/On_Distributed_Quantization_for_Classification.ipynb\" target=\"_parent\"><img src=\"https://colab.research.google.com/assets/colab-badge.svg\" alt=\"Open In Colab\"/></a>"
   ]
  },
  {
   "cell_type": "code",
   "execution_count": null,
   "metadata": {
    "colab": {},
    "colab_type": "code",
    "id": "enDfYJwIUOL3"
   },
   "outputs": [],
   "source": [
    "import numpy as np\n",
    "import pandas as pd\n",
    "import matplotlib.pyplot as plt\n",
    "from matplotlib.colors import ListedColormap\n",
    "from toolz import pipe\n",
    "from collections import defaultdict\n",
    "from itertools import product\n",
    "from joblib import Parallel, delayed\n",
    "import multiprocessing\n",
    "CPU_COUNT = multiprocessing.cpu_count()\n",
    "\n",
    "colors_hex = ['#FF0000', '#0000FF']\n",
    "cm_bright = ListedColormap(colors_hex)\n",
    "\n",
    "parallel = Parallel(n_jobs=CPU_COUNT, verbose=10)"
   ]
  },
  {
   "cell_type": "markdown",
   "metadata": {
    "colab_type": "text",
    "id": "Cu_fSeiFVUJR"
   },
   "source": [
    "# 1. On-the-line quantizer"
   ]
  },
  {
   "cell_type": "markdown",
   "metadata": {
    "colab_type": "text",
    "id": "MUIEkKK-dGZQ"
   },
   "source": [
    "## 1.1 Generate data"
   ]
  },
  {
   "cell_type": "code",
   "execution_count": null,
   "metadata": {
    "colab": {
     "base_uri": "https://localhost:8080/",
     "height": 265
    },
    "colab_type": "code",
    "id": "wY0kZWdi8bO7",
    "outputId": "0a085fcf-f6c7-40c1-c888-c1f30b09797c"
   },
   "outputs": [],
   "source": [
    "def _data_fixture():\n",
    "    X = np.array([*[[0.2*i + 0.1, 0.2*(i+1)] for i in range(1, 5)],\n",
    "                  *[[0.2*i + 0.1, 0.2*(i-1)] for i in range(1, 5)]])\n",
    "    y = (X[:, 0] < X[:, 1]).astype(int)    \n",
    "    return X, y\n",
    "\n",
    "def normalize(X):\n",
    "    x = X - X.min(axis=0)\n",
    "    return x/x.max(axis=0)\n",
    "\n",
    "def generate_data(N, separation=.25, seed=None):\n",
    "    X = np.random.RandomState(seed).normal(size=(N, 2))\n",
    "    y = (X[:, 0] < X[:, 1]).astype(int)\n",
    "    X[y == 1, 0] -= separation\n",
    "    X[y == 1, 1] += separation\n",
    "    X[y == 0, 0] += separation\n",
    "    X[y == 0, 1] -= separation\n",
    "    X = normalize(X)\n",
    "    y = (X[:, 0] < X[:, 1]).astype(int)\n",
    "    return X, y\n",
    "\n",
    "def make_potential_boundaries(X):\n",
    "    return pipe(X, np.ravel, np.unique, np.sort)\n",
    "\n",
    "def plot(X, y, boundaries=None, **plot_kwargs):\n",
    "    fig, ax = plt.subplots(**plot_kwargs)\n",
    "    ax.scatter(*X.T, c=y, s=25, cmap=cm_bright)\n",
    "    x = np.linspace(0, 1, 100)\n",
    "    ax.fill_between(x, x, 0, alpha=0.25, color=colors_hex[0])\n",
    "    ax.fill_between(x, x, 1, alpha=0.25, color=colors_hex[1])\n",
    "\n",
    "    if boundaries is not None:\n",
    "        for b in boundaries:\n",
    "            ax.vlines(b, 0, 1, linestyles='dashed')\n",
    "            ax.hlines(b, 0, 1, linestyles='dashed')\n",
    "\n",
    "    return fig, ax\n",
    "\n",
    "X, y = generate_data(1000)\n",
    "plot(X, y);"
   ]
  },
  {
   "cell_type": "markdown",
   "metadata": {
    "colab_type": "text",
    "id": "AGWFqm-tVmc5"
   },
   "source": [
    "## 1.2 Algorithm"
   ]
  },
  {
   "cell_type": "code",
   "execution_count": null,
   "metadata": {
    "colab": {
     "base_uri": "https://localhost:8080/",
     "height": 265
    },
    "colab_type": "code",
    "id": "i4Njq2H33qVR",
    "outputId": "8a633630-67bb-4bf7-db89-e2dc19a7d94b"
   },
   "outputs": [],
   "source": [
    "def _min_gap_error(X, y, si, sl=-1):\n",
    "    mask = ((X > sl) & (X <= si)).all(axis=1)\n",
    "    return min(((y == c) & mask).sum() for c in [0, 1])\n",
    "\n",
    "def ontheline_quantizer(X, y, R):\n",
    "    s = make_potential_boundaries(X)\n",
    "    E = np.zeros((len(s), 2**R))\n",
    "    A = defaultdict(lambda: defaultdict(set))\n",
    "    for i, si in enumerate(s):\n",
    "        E[i, 0] = _min_gap_error(X, y, si)\n",
    "\n",
    "    for i, si in enumerate(s):\n",
    "        for b in range(1, 2**R):\n",
    "            if i == 0:\n",
    "                E[i, b] = 0\n",
    "                A[i][b] = set()\n",
    "            else:\n",
    "                (E[i, b],\n",
    "                 l_star,\n",
    "                 sl_star) = min([E[l, b-1] + _min_gap_error(X, y, si, sl), l, sl]\n",
    "                                for l, sl in enumerate(s[:i]))\n",
    "                A[i][b] = A[l_star][b-1].union({sl_star})\n",
    "\n",
    "    return E, A, A[len(s)-1][2**R-1]\n",
    "\n",
    "X, y = _data_fixture()\n",
    "E, A, d = ontheline_quantizer(X, y, 1)\n",
    "plot(X, y, d);"
   ]
  },
  {
   "cell_type": "markdown",
   "metadata": {
    "colab_type": "text",
    "id": "CGdt8Lswt0P-"
   },
   "source": [
    "## 1.3 Sanity Checks"
   ]
  },
  {
   "cell_type": "code",
   "execution_count": null,
   "metadata": {
    "colab": {
     "base_uri": "https://localhost:8080/",
     "height": 265
    },
    "colab_type": "code",
    "id": "2Gv1lVIVm4jn",
    "outputId": "07afe2a2-bcba-4896-86f5-ac9d077d041c"
   },
   "outputs": [],
   "source": [
    "def test_zero_boundaries():\n",
    "    X, y = _data_fixture()\n",
    "    plot(X, y);\n",
    "    boundaries = [0.20, 0.35, 0.50, 0.75, 0.90]\n",
    "    errors = [0, 0, 1, 2, 3]\n",
    "    for b, e in zip(boundaries, errors):\n",
    "        assert _min_gap_error(X, y, b) == e\n",
    "        plt.vlines(b, 0, b, linestyles='solid')\n",
    "        plt.hlines(b, 0, b, linestyles='solid')\n",
    "        plt.xticks(boundaries)\n",
    "        plt.yticks(boundaries, labels=[f'{e}' for e in errors])\n",
    "        plt.ylabel('min errors over classes')\n",
    "\n",
    "test_zero_boundaries()"
   ]
  },
  {
   "cell_type": "code",
   "execution_count": null,
   "metadata": {
    "colab": {
     "base_uri": "https://localhost:8080/",
     "height": 265
    },
    "colab_type": "code",
    "id": "VN_zmZYC2USD",
    "outputId": "bb504b54-c724-4103-e436-944d4c7e6ef6"
   },
   "outputs": [],
   "source": [
    "def draw_square(*edges):\n",
    "    plt.vlines(edges[0], edges[0], edges[1], linestyles='solid')\n",
    "    plt.vlines(edges[1], edges[0], edges[1], linestyles='dashed')\n",
    "    plt.hlines(edges[0], edges[0], edges[1], linestyles='solid')\n",
    "    plt.hlines(edges[1], edges[0], edges[1], linestyles='dashed')\n",
    "\n",
    "def test_gap_boundaries():\n",
    "    X, y = _data_fixture()\n",
    "    plot(X, y);\n",
    "    gaps = [(.35, .20), (.75, .40), (1.0, .55)]\n",
    "    errors = [0, 0, 1]\n",
    "    for g, e in zip(gaps, errors):\n",
    "        assert _min_gap_error(X, y, *g) == e\n",
    "        draw_square(*g)\n",
    "\n",
    "test_gap_boundaries()"
   ]
  },
  {
   "cell_type": "markdown",
   "metadata": {
    "colab_type": "text",
    "id": "XwULDt2r9o3_"
   },
   "source": [
    "## 1.4 Run on separable data"
   ]
  },
  {
   "cell_type": "code",
   "execution_count": null,
   "metadata": {
    "colab": {
     "base_uri": "https://localhost:8080/",
     "height": 609
    },
    "colab_type": "code",
    "id": "AiQX_wXK9tYG",
    "outputId": "8ae06a50-7747-4220-b363-2181ef7e9f73"
   },
   "outputs": [],
   "source": [
    "N = 200\n",
    "seed = 0\n",
    "R_space = [1, 2, 3]\n",
    "sep_space = [0, 0.25, 0.5]\n",
    "\n",
    "plt.figure(figsize=(16,10))\n",
    "metrics = list()\n",
    "for i, (R, separation) in enumerate(product(R_space, sep_space), 1):\n",
    "    X, y = generate_data(N, separation, seed)\n",
    "    E, A, boundaries = ontheline_quantizer(X, y, R)\n",
    "    plt.subplot(3, 3, i)\n",
    "\n",
    "    plt.scatter(*X.T, c=y, s=25, cmap=cm_bright)\n",
    "    x = np.linspace(0, 1, 100)\n",
    "    plt.fill_between(x, x, 0, alpha=0.25, color=colors_hex[0])\n",
    "    plt.fill_between(x, x, 1, alpha=0.25, color=colors_hex[1])\n",
    "\n",
    "    for b in boundaries:\n",
    "        plt.vlines(b, 0, 1, linestyles='dashed')\n",
    "        plt.hlines(b, 0, 1, linestyles='dashed')\n",
    "    \n",
    "    plt.title(f'$N={N}, R={R}, seed={seed}, sep={separation}$')\n",
    "\n",
    "    metrics.append({'loss': E[-1][-1]/N,\n",
    "                    'R': R,\n",
    "                    'separation': separation})"
   ]
  },
  {
   "cell_type": "markdown",
   "metadata": {
    "colab_type": "text",
    "id": "yCu6TcSAKgbi"
   },
   "source": [
    "## 1.5 Does separation make the problem easier?"
   ]
  },
  {
   "cell_type": "code",
   "execution_count": null,
   "metadata": {
    "colab": {
     "base_uri": "https://localhost:8080/",
     "height": 454
    },
    "colab_type": "code",
    "id": "w42MmChvKzsh",
    "outputId": "806a0e05-afef-44ec-db27-99019e811cbd"
   },
   "outputs": [],
   "source": [
    "N = 300\n",
    "seed = 0\n",
    "R_space = [1, 2, 3]\n",
    "sep_space = np.arange(0, 1, 0.1)\n",
    "\n",
    "@delayed\n",
    "def single_run(R, separation):\n",
    "    X, y = generate_data(N, separation, seed)\n",
    "    E, _, _ = ontheline_quantizer(X, y, R)\n",
    "    return {'loss': E[-1][-1]/N,\n",
    "             'R': R,\n",
    "             'separation': separation}\n",
    "\n",
    "metrics = parallel(single_run(R, s) for R, s in product(R_space, sep_space))\n",
    "\n",
    "(pd\n",
    " .DataFrame(metrics)\n",
    " .round(3)\n",
    " .pivot('separation', 'R', 'loss')\n",
    " .plot(style='o--', figsize=(12,5)));"
   ]
  },
  {
   "cell_type": "markdown",
   "metadata": {
    "colab_type": "text",
    "id": "sdwNkmr23V0Z"
   },
   "source": [
    "## 1.6 Boundary quantization (new, not part of the paper)"
   ]
  },
  {
   "cell_type": "code",
   "execution_count": null,
   "metadata": {
    "colab": {
     "base_uri": "https://localhost:8080/",
     "height": 644
    },
    "colab_type": "code",
    "id": "-4hDtr5X846z",
    "outputId": "e1a0534c-5e24-401f-fc27-89878c07411e"
   },
   "outputs": [],
   "source": [
    "from matplotlib.colors import BASE_COLORS\n",
    "seed = None\n",
    "X, y = generate_data(N, separation, seed)\n",
    "\n",
    "def rotate(X, angle=np.pi/4):\n",
    "    R = np.array([[np.cos(angle), -np.sin(angle)],\n",
    "                  [np.sin(angle),  np.cos(angle)]])\n",
    "    return X.dot(R.T)\n",
    "\n",
    "RX = rotate(X)\n",
    "plot(X, y, figsize=(10, 10));\n",
    "plt.xticks(np.arange(0, 1, 0.1))\n",
    "plt.yticks(np.arange(0, 1, 0.1))\n",
    "\n",
    "def nearestToBoundary_quantizer(mask=None, depth=5, boundaries=[]):\n",
    "    mask = np.arange(y.shape[0]) if mask is None else mask\n",
    "    i = np.abs(RX[mask, 0]).argmin()\n",
    "    d = X[mask][i, :]\n",
    "\n",
    "    plt.scatter(*d, c='yellow', s=100);\n",
    "    plt.vlines(d[0], 0, 1, linestyles='dashed');\n",
    "    plt.hlines(d[1], 0, 1, linestyles='dashed');\n",
    "    \n",
    "    max_error = max(((y[mask][f(X[mask], d).all(axis=1)] != c).sum(), i, f, c)\n",
    "                    for i, (c, f) in enumerate(product([0, 1], [np.greater, np.less])))\n",
    "\n",
    "    _, _, f, c = max_error\n",
    "    new_mask = mask[f(X[mask], d).all(axis=1)]\n",
    "    print(depth,X[mask].shape, X[i], y[i], max_error, new_mask.shape)\n",
    "    # plt.scatter(*X[new_mask].T, c=list(BASE_COLORS.keys())[-depth])\n",
    "    if depth > 1:\n",
    "        nearestToBoundary_quantizer(new_mask, depth-1, boundaries+[d])\n",
    "\n",
    "nearestToBoundary_quantizer(depth=3)\n",
    "E, A, boundaries = ontheline_quantizer(X, y, 2)\n",
    "for b in boundaries:\n",
    "    plt.vlines(b, 0, 1, 'green', linestyles='dashed')\n",
    "    plt.hlines(b, 0, 1, 'green', linestyles='dashed')"
   ]
  },
  {
   "cell_type": "markdown",
   "metadata": {
    "colab_type": "text",
    "id": "XBjDU84IoBlz"
   },
   "source": [
    "## 1.7 Questions and Comments\n",
    "1. On-the-line quantizer minimizes consistency error, but does it minimize risk? It's a bit odd that the quantizer is data dependent. It feels like there should be a better strategy to quantize the classification regions.\n",
    "\n",
    "2. If we allow the nodes to accumulate samples, we can apply Shannon's source coding theorem and achieve better compression.\n",
    "\n",
    "3. By iterating over the points nearest to the margins/boundaries, can we achieve a lower complexity class for the algorithm? This may require removing the \"on-the-line\" condition (see the incomplete \"1.6 Boundary Quantization section\")\n",
    "\n",
    "4. What happens if a node is hijacked? What interesting attacks are possible?\n",
    "\n",
    "5. If a single node has more than one feature, can local statistics be used to increase compression? For example, by quantizing the first PCA component.\n",
    "\n",
    "6. Instead of distributed quantization and centralized classification, try distributed classification with centralized meta-classification (e.g. voting)\n",
    "\n",
    "7. The number of bits per node is fixed, but features with higher entropy will require more bits to properly quantize than those with lower entropy."
   ]
  },
  {
   "cell_type": "markdown",
   "metadata": {},
   "source": [
    "# 2. Polynomial Logistic Regression"
   ]
  },
  {
   "cell_type": "markdown",
   "metadata": {},
   "source": [
    "## 2.1 Generating polynomials"
   ]
  },
  {
   "cell_type": "code",
   "execution_count": 35,
   "metadata": {},
   "outputs": [
    {
     "data": {
      "image/png": "[encoded data removed]",
      "text/plain": [
       "<Figure size 864x360 with 1 Axes>"
      ]
     },
     "metadata": {},
     "output_type": "display_data"
    }
   ],
   "source": [
    "import numpy as np\n",
    "import jax.numpy as jnp\n",
    "import matplotlib.pyplot as plt\n",
    "from jax import jit\n",
    "plt.style.use('ggplot')\n",
    "\n",
    "(N, d, k) = 100, 2, 2\n",
    "P = np.random.uniform(0, 1, size=(d, k))\n",
    "sample = np.random.uniform(0, 1, size=(N, d))\n",
    "\n",
    "def σ(x):\n",
    "    return 1/(1 + jnp.exp(-x))\n",
    "\n",
    "def classify(probs):\n",
    "    return (probs > 0.5)\n",
    "\n",
    "def predict_probs(params, sample):\n",
    "    z = poly_eval_from_roots(params, sample)\n",
    "    return σ(jnp.product(z, axis=1))\n",
    "\n",
    "def poly_eval_from_roots(P: '(dim, n_roots)', sample):\n",
    "    N, d, k = sample.shape[0], *P.shape\n",
    "    p = jnp.product(jnp.repeat(jnp.expand_dims(sample, -1), k, axis=-1) \n",
    "                    - jnp.repeat(jnp.expand_dims(P, 0), N, axis=0), axis=-1)\n",
    "    return p*sample*(sample - 1)\n",
    "\n",
    "z = poly_eval_from_roots(P, sample)\n",
    "\n",
    "plt.figure(figsize=(12,5))\n",
    "for i in range(d):\n",
    "    idx = jnp.argsort(sample[:, i])\n",
    "    roots = jnp.round(P[i], 3)\n",
    "    plt.plot(sample[idx, i], z[idx, i])\n",
    "plt.title('Generated polynomials (legend shows roots)')\n",
    "plt.hlines(0, 0, 1, linestyles='dashed')\n",
    "plt.legend([f'{tuple(roots)}' for roots in jnp.round(P, 3)]);"
   ]
  },
  {
   "cell_type": "code",
   "execution_count": 40,
   "metadata": {},
   "outputs": [
    {
     "data": {
      "image/png": "[encoded data removed]",
      "text/plain": [
       "<Figure size 432x288 with 1 Axes>"
      ]
     },
     "metadata": {},
     "output_type": "display_data"
    }
   ],
   "source": [
    "def predict_probs(params, sample):\n",
    "    z = poly_eval_from_roots(params, sample)\n",
    "    return σ(jnp.product(z, axis=1))\n",
    "\n",
    "def plot_2d_classification(P, Q, sample):\n",
    "    p = predict_probs(P, sample)\n",
    "    y_true = classify(p)\n",
    "    plt.vlines(Q[0], 0, 1, linestyles='dashed')\n",
    "    plt.hlines(Q[1], 0, 1, linestyles='dashed')\n",
    "    plt.scatter(*sample.T, c=y_true)\n",
    "    plt.xticks([])\n",
    "    plt.yticks([])\n",
    "    plt.gray()\n",
    "    \n",
    "plot_2d_classification(P, P, sample)"
   ]
  },
  {
   "cell_type": "markdown",
   "metadata": {},
   "source": [
    "## 2.2 Realizable case: $C \\in \\mathcal{H}_{k,d}$"
   ]
  },
  {
   "cell_type": "code",
   "execution_count": 68,
   "metadata": {},
   "outputs": [
    {
     "data": {
      "image/png": "[encoded data removed]",
      "text/plain": [
       "<Figure size 432x288 with 2 Axes>"
      ]
     },
     "metadata": {},
     "output_type": "display_data"
    },
    {
     "name": "stdout",
     "output_type": "stream",
     "text": [
      "{'loss_bce': 0.9999995231628418, 'loss_mce': 0.4100000262260437, 'epoch': 299}\n"
     ]
    },
    {
     "data": {
      "image/png": "[encoded data removed]",
      "text/plain": [
       "<Figure size 432x288 with 1 Axes>"
      ]
     },
     "metadata": {},
     "output_type": "display_data"
    }
   ],
   "source": [
    "from jax import grad\n",
    "import pandas as pd\n",
    "plt.style.use('ggplot')\n",
    "\n",
    "\n",
    "def binary_cross_entropy(p, q):\n",
    "    return -(p*jnp.log2(q) + (1-p)*jnp.log2(1-q))\n",
    "\n",
    "def accuracy(y_true, y_pred):\n",
    "    return (y_true == y_pred).mean()\n",
    "\n",
    "def loss(params, sample, p):\n",
    "    q = predict_probs(params, sample)\n",
    "    return jnp.min([binary_cross_entropy(p, q).mean(),\n",
    "                    binary_cross_entropy(p, 1-q).mean()])\n",
    "\n",
    "(N, d, k) = 200, 2, 1\n",
    "P = np.random.uniform(0, 1, size=(d, k))\n",
    "Q = np.random.uniform(0, 1, size=(d, k))\n",
    "sample = np.random.uniform(0, 1, size=(N, d))\n",
    "p = predict_probs(P, sample)\n",
    "y_true = classify(p)\n",
    "grad_loss = grad(loss)\n",
    "lr = 10000\n",
    "\n",
    "metrics = list()\n",
    "for epoch in range(300):\n",
    "    dQ = grad_loss(Q, sample, p)\n",
    "    Q -= lr*dQ\n",
    "    \n",
    "    q = predict_probs(Q, sample)\n",
    "    y_pred = classify(q)\n",
    "    loss_mce = jnp.min([1 - accuracy(y_true, y_pred),\n",
    "                        1 - accuracy(y_true, 1-y_pred)])\n",
    "    \n",
    "    metrics.append({\n",
    "        'loss_bce': float(loss(Q, sample, p)),\n",
    "        'loss_mce': float(loss_mce),\n",
    "        'epoch': epoch,\n",
    "    })\n",
    "    \n",
    "    if loss_mce < 0.01:\n",
    "        break\n",
    "    \n",
    "(pd.DataFrame(metrics)\n",
    "   .set_index('epoch')\n",
    "   .plot(secondary_y='loss_mce'));\n",
    "plt.show()\n",
    "\n",
    "if d <= 2:\n",
    "    plot_2d_classification(P, Q, sample)\n",
    "print(metrics[-1])"
   ]
  },
  {
   "cell_type": "markdown",
   "metadata": {},
   "source": [
    "## 2.3 Linearly seperable data"
   ]
  },
  {
   "cell_type": "code",
   "execution_count": null,
   "metadata": {},
   "outputs": [],
   "source": [
    "R = 2\n",
    "d, k = 2, R**2 - 1\n",
    "Q = np.random.uniform(0, 1, size=(d, k))\n",
    "sample = np.random.uniform(0, 1, size=(N, d))\n",
    "\n",
    "def classify_linearly_separable(sample):\n",
    "    return (sample[:, 0] > sample[:, 1])\n",
    "\n",
    "y_true = classify_linearly_separable(sample)\n",
    "lr = 20\n",
    "\n",
    "metrics = list()\n",
    "for epoch in range(1000):\n",
    "    dQ = grad_loss(Q, sample, p)\n",
    "    Q -= lr*dQ\n",
    "#     Q -= np.random.normal(0, np.abs(dQ).mean(), size=dQ.shape)\n",
    "\n",
    "    q = predict_probs(Q, sample)\n",
    "    y_pred = classify(q)\n",
    "    loss_mce = float(1 - accuracy(y_true, y_pred))\n",
    "    \n",
    "    metrics.append({\n",
    "        'loss_bce': float(loss(Q, sample, p)),\n",
    "        'loss_mce': loss_mce,\n",
    "        'epoch': epoch,\n",
    "    })\n",
    "    \n",
    "    if loss_mce < 0.01:\n",
    "        break\n",
    "    \n",
    "(pd.DataFrame(metrics)\n",
    "   .set_index('epoch')\n",
    "   .plot(secondary_y='loss_mce'));\n",
    "plt.show()\n",
    "\n",
    "if d <= 2:\n",
    "    y_true = classify_linearly_separable(sample)\n",
    "    plt.vlines(Q[0], 0, 1, linestyles='dashed')\n",
    "    plt.hlines(Q[1], 0, 1, linestyles='dashed')\n",
    "    plt.scatter(*sample.T, c=y_true)\n",
    "    plt.xticks([])\n",
    "    plt.yticks([])\n",
    "    plt.gray()\n",
    "    \n",
    "print(metrics[-1])\n",
    "E, A, d = ontheline_quantizer(sample, y_true, 2)\n",
    "plot(sample, y_true, d);\n",
    "E[-1][-1]/N"
   ]
  },
  {
   "cell_type": "markdown",
   "metadata": {},
   "source": [
    "# References\n",
    "\n",
    "[1] Hanna, Osama A., et al. \"On Distributed Quantization for Classification.\" IEEE Journal on Selected Areas in Information Theory (2020)."
   ]
  }
 ],
 "metadata": {
  "colab": {
   "authorship_tag": "ABX9TyPciVOCJ/pywpKwmZvOpETx",
   "collapsed_sections": [],
   "include_colab_link": true,
   "name": "On_Distributed_Quantization_for_Classification",
   "provenance": []
  },
  "kernelspec": {
   "display_name": "Python 3",
   "language": "python",
   "name": "python3"
  },
  "language_info": {
   "codemirror_mode": {
    "name": "ipython",
    "version": 3
   },
   "file_extension": ".py",
   "mimetype": "text/x-python",
   "name": "python",
   "nbconvert_exporter": "python",
   "pygments_lexer": "ipython3",
   "version": "3.6.10"
  }
 },
 "nbformat": 4,
 "nbformat_minor": 4
}
