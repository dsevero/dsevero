{
 "cells": [
  {
   "cell_type": "code",
   "execution_count": 28,
   "metadata": {},
   "outputs": [
    {
     "data": {
      "text/plain": [
       "'<table border=\"1\" class=\"dataframe\">\\n  <thead>\\n    <tr style=\"text-align: right;\">\\n      <th>μ</th>\\n      <th>0.05</th>\\n      <th>0.8</th>\\n    </tr>\\n    <tr>\\n      <th>M</th>\\n      <th></th>\\n      <th></th>\\n    </tr>\\n  </thead>\\n  <tbody>\\n    <tr>\\n      <th>1</th>\\n      <td>0.598737</td>\\n      <td>1.024000e-07</td>\\n    </tr>\\n    <tr>\\n      <th>1000</th>\\n      <td>1.000000</td>\\n      <td>1.023948e-04</td>\\n    </tr>\\n    <tr>\\n      <th>1000000</th>\\n      <td>1.000000</td>\\n      <td>9.733159e-02</td>\\n    </tr>\\n  </tbody>\\n</table>'"
      ]
     },
     "execution_count": 28,
     "metadata": {},
     "output_type": "execute_result"
    }
   ],
   "source": [
    "import matplotlib.pyplot as plt\n",
    "import pandas as pd\n",
    "\n",
    "def prob_zero_error(μ: 'true probability of error',\n",
    "                    M: 'number of hypotheses',\n",
    "                    N: 'number of data points'):\n",
    "    return 1 - (1 - (1 - μ)**N)**M\n",
    "\n",
    "d = [{'μ': μ, \n",
    "      'M': M, \n",
    "      'p': prob_zero_error(μ, M, N=10)} \n",
    "     for μ in [0.05, 0.8] \n",
    "     for M in [1, 1_000, 1_000_000]]\n",
    "\n",
    "pd.DataFrame(d).pivot('M', 'μ', 'p').to_html()"
   ]
  }
 ],
 "metadata": {
  "kernelspec": {
   "display_name": "dsevero.com",
   "language": "python",
   "name": "dsevero.com"
  },
  "language_info": {
   "codemirror_mode": {
    "name": "ipython",
    "version": 3
   },
   "file_extension": ".py",
   "mimetype": "text/x-python",
   "name": "python",
   "nbconvert_exporter": "python",
   "pygments_lexer": "ipython3",
   "version": "3.7.0"
  }
 },
 "nbformat": 4,
 "nbformat_minor": 2
}
